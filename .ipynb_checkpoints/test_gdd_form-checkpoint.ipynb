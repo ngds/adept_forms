{
 "cells": [
  {
   "cell_type": "markdown",
   "metadata": {},
   "source": [
    "# GeoDeepDive Browse Form"
   ]
  },
  {
   "cell_type": "markdown",
   "metadata": {},
   "source": [
    "The following are a series of queries to the [geodeepdive.org](https://geodeepdive.org/api/v1/) application programming interface.\n",
    "\n",
    "With this form you can:\n",
    "1. Get basic statistics about partnered publishers (i.e., available publishers, journals, and number of articles)\n",
    "2. Get a set of documents that match a search term"
   ]
  },
  {
   "cell_type": "markdown",
   "metadata": {},
   "source": [
    "## Partnered Publisher Statistics"
   ]
  },
  {
   "cell_type": "code",
   "execution_count": 1,
   "metadata": {
    "tags": [
     "hide_input"
    ]
   },
   "outputs": [
    {
     "data": {
      "application/vnd.jupyter.widget-view+json": {
       "model_id": "8f8cf8648b5f43c38a47b62a3bec3c13",
       "version_major": 2,
       "version_minor": 0
      },
      "text/plain": [
       "HBox(children=(VBox(children=(Button(description='Public Library of Science', style=ButtonStyle()), Button(des…"
      ]
     },
     "metadata": {},
     "output_type": "display_data"
    }
   ],
   "source": [
    "# Load the necessary python packages\n",
    "from IPython.display import display\n",
    "from ipywidgets import widgets \n",
    "import requests\n",
    "import json\n",
    "\n",
    "# Make an initial query to get a list of GDD publishers \n",
    "publishers_get = requests.get('https://geodeepdive.org/api/v1/publishers?all')\n",
    "publishers_json = json.loads(publishers_get.text)['success']['data']\n",
    "publishers_list = []\n",
    "for item in publishers_json:\n",
    "    publishers_list.append(item['publisher'])\n",
    "\n",
    "# Turn the list of publishers into clickable boxes\n",
    "publishers_boxes = [widgets.Button(description=pub,value=pub) for pub in publishers_list]\n",
    "# Set the left boxes as the odds an right box as evens, used \"slicing\" to make it cuter\n",
    "#left_box = widgets.VBox([publishers_boxes[i] for i in range(len(publishers_boxes)) if i%2!=0])\n",
    "left_box = widgets.VBox(publishers_boxes[1::2])\n",
    "#right_box = widgets.VBox([publishers_boxes[i] for i in range(len(publishers_boxes)) if i%2==0])\n",
    "right_box = widgets.VBox(publishers_boxes[::2])\n",
    "\n",
    "# Create an output box to print the json results for the selected button\n",
    "pub_out_box = widgets.Output(layout={'border': '1px solid black'})\n",
    "\n",
    "# Create a function to route the button value to get the article statistics\n",
    "def on_click_button(b):\n",
    "    with pub_out_box:\n",
    "        pub_out_box.clear_output()\n",
    "        stats_get = requests.get('https://geodeepdive.org/api/v1/publishers?publisher=' + b.description)\n",
    "        print (json.dumps(json.loads(stats_get.text)['success']['data'], indent=2))\n",
    "\n",
    "# apply the .onclick function to all elements of publishers_boxes list\n",
    "for pub_box in publishers_boxes:\n",
    "    pub_box.on_click(on_click_button)\n",
    "\n",
    "# Display the results\n",
    "widgets.HBox([left_box,right_box,pub_out_box])"
   ]
  },
  {
   "cell_type": "markdown",
   "metadata": {},
   "source": [
    "## Browse Documents by Term"
   ]
  },
  {
   "cell_type": "code",
   "execution_count": null,
   "metadata": {
    "tags": [
     "hide_input"
    ]
   },
   "outputs": [],
   "source": [
    "text_box = widgets.Text(\n",
    "    placeholder='Type a term',\n",
    "    description='Search:',\n",
    "    disabled=False\n",
    ")\n",
    "\n",
    "# Add button to download the full metadata return\n",
    "download_docs = widgets.Button(description='Download Metadata List')\n",
    "\n",
    "# Add an output window to print an example metadata return for the serach\n",
    "docs_out_box = widgets.Output(layout={'border': '1px solid black'})\n",
    "\n",
    "# Provide the option to further subset the query by publisher\n",
    "# publisher_buttons = widgets.ToggleButtons(options=publishers_list)   \n",
    "\n",
    "def handle_submit(sender):\n",
    "    with docs_out_box:\n",
    "        docs_out_box.clear_output()\n",
    "        stats_get = requests.get('https://geodeepdive.org/api/v1/articles?max=1&term=' + text_box.value)\n",
    "        print (json.dumps(json.loads(stats_get.text)['success']['data'], indent=2))\n",
    "\n",
    "# Scan and scroll version of the get\n",
    "def on_click_download(b):\n",
    "    container_list = []\n",
    "    metadata_get = requests.get('https://geodeepdive.org/api/v1/articles?full_results&term=' + text_box.value)\n",
    "    container_list.append(json.loads(metadata_get.text)['success']['data'])\n",
    "    while json.loads(metadata_get.text)['success']['next_page']!='':\n",
    "        metadata_get = requests.get(json.loads(metadata_get.text)['success']['next_page'])\n",
    "        container_list.append(json.loads(metadata_get.text)['success']['data'])\n",
    "    with open('gdd_bibjson.json','w') as json_file:\n",
    "            json.dump(container_list, json_file)\n",
    "\n",
    "# Provide an example article\n",
    "text_box.on_submit(handle_submit)\n",
    "\n",
    "# Download the full return\n",
    "download_docs.on_click(on_click_download)\n",
    "\n",
    "# Display the results\n",
    "widgets.VBox([widgets.HBox([text_box,download_docs]),docs_out_box])"
   ]
  },
  {
   "cell_type": "code",
   "execution_count": null,
   "metadata": {},
   "outputs": [],
   "source": []
  },
  {
   "cell_type": "code",
   "execution_count": null,
   "metadata": {},
   "outputs": [],
   "source": []
  }
 ],
 "metadata": {
  "kernelspec": {
   "display_name": "Python 3",
   "language": "python",
   "name": "python3"
  },
  "language_info": {
   "codemirror_mode": {
    "name": "ipython",
    "version": 3
   },
   "file_extension": ".py",
   "mimetype": "text/x-python",
   "name": "python",
   "nbconvert_exporter": "python",
   "pygments_lexer": "ipython3",
   "version": "3.7.3"
  }
 },
 "nbformat": 4,
 "nbformat_minor": 4
}
